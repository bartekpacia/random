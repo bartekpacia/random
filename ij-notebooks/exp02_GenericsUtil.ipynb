{
 "cells": [
  {
   "cell_type": "code",
   "metadata": {
    "collapsed": true,
    "ExecuteTime": {
     "end_time": "2025-09-23T16:11:21.831015Z",
     "start_time": "2025-09-23T16:11:21.531735Z"
    }
   },
   "source": [
    "%use intellij-platform\n",
    "import org.jetbrains.kotlinx.jupyter.intellij.ide\n",
    "\n",
    "println(ide)\n",
    "\n",
    "loadPlugins(\"com.intellij.java\")"
   ],
   "outputs": [
    {
     "data": {
      "text/plain": [
       "IntelliJ Platform integration is loaded"
      ]
     },
     "metadata": {},
     "output_type": "display_data",
     "jetTransient": {
      "display_id": null
     }
    },
    {
     "name": "stdout",
     "output_type": "stream",
     "text": [
      "com.jetbrains.plugin.structure.ide.ProductInfoBasedIde@1ffa263e\n"
     ]
    }
   ],
   "execution_count": 3
  },
  {
   "metadata": {
    "ExecuteTime": {
     "end_time": "2025-09-23T16:11:22.924900Z",
     "start_time": "2025-09-23T16:11:22.844937Z"
    }
   },
   "cell_type": "code",
   "source": [
    "import com.intellij.ide.DataManager\n",
    "import com.intellij.openapi.actionSystem.CommonDataKeys\n",
    "import com.intellij.psi.PsiElementFactory\n",
    "import com.intellij.psi.PsiManager\n",
    "\n",
    "val dataContext = DataManager.getInstance().dataContextFromFocusAsync.blockingGet(10)!!\n",
    "val project = dataContext.getData(CommonDataKeys.PROJECT)!!\n",
    "\n",
    "val psiFactory = PsiElementFactory.getInstance(project)\n",
    "val psiManager = PsiManager.getInstance(project)\n",
    "val m1 = psiFactory.createMethodFromText(\"java.util.ArrayList<java.lang.String> list1();\", null)\n",
    "val m2 = psiFactory.createMethodFromText(\"java.util.LinkedList<java.lang.String> list2();\", null)"
   ],
   "outputs": [],
   "execution_count": 4
  },
  {
   "metadata": {
    "ExecuteTime": {
     "end_time": "2025-09-23T16:11:25.770896Z",
     "start_time": "2025-09-23T16:11:25.733399Z"
    }
   },
   "cell_type": "code",
   "source": "println(\"$m1, $m2\")",
   "outputs": [
    {
     "name": "stdout",
     "output_type": "stream",
     "text": [
      "PsiMethod:list1, PsiMethod:list2\n"
     ]
    }
   ],
   "execution_count": 5
  },
  {
   "metadata": {
    "ExecuteTime": {
     "end_time": "2025-09-23T16:11:30.962950Z",
     "start_time": "2025-09-23T16:11:30.849363Z"
    }
   },
   "cell_type": "code",
   "source": [
    "import com.intellij.openapi.application.ApplicationManager\n",
    "import com.intellij.openapi.application.ReadAction\n",
    "import com.intellij.openapi.application.readAction\n",
    "import com.intellij.openapi.application.readActionBlocking\n",
    "import com.intellij.psi.GenericsUtil\n",
    "import com.intellij.psi.util.MethodSignature\n",
    "import com.intellij.psi.util.MethodSignatureUtil\n",
    "\n",
    "ApplicationManager.getApplication().runReadAction {\n",
    "    println(\"Computing LUB(${m1.returnType}, ${m2.returnType})\")\n",
    "    val result = GenericsUtil.getLeastUpperBound(m1.returnType, m2.returnType, psiManager)\n",
    "    println(\"Result: $result\")\n",
    "}"
   ],
   "outputs": [
    {
     "name": "stdout",
     "output_type": "stream",
     "text": [
      "Computing LUB(PsiType:ArrayList<String>, PsiType:LinkedList<String>)\n",
      "Result: PsiIntersectionType: AbstractList<String>, Cloneable, Serializable\n"
     ]
    }
   ],
   "execution_count": 9
  }
 ],
 "metadata": {
  "kernelspec": {
   "display_name": "Kotlin",
   "language": "kotlin",
   "name": "kotlin"
  },
  "language_info": {
   "name": "kotlin",
   "version": "2.2.20-dev-4982",
   "mimetype": "text/x-kotlin",
   "file_extension": ".kt",
   "pygments_lexer": "kotlin",
   "codemirror_mode": "text/x-kotlin",
   "nbconvert_exporter": ""
  },
  "ktnbPluginMetadata": {
   "sessionRunMode": "IDE_PROCESS"
  }
 },
 "nbformat": 4,
 "nbformat_minor": 0
}
