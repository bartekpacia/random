{
 "cells": [
  {
   "cell_type": "code",
   "metadata": {
    "collapsed": true,
    "ExecuteTime": {
     "end_time": "2025-09-23T16:25:17.983121Z",
     "start_time": "2025-09-23T16:25:17.598663Z"
    }
   },
   "source": [
    "%use intellij-platform\n",
    "import org.jetbrains.kotlinx.jupyter.intellij.ide\n",
    "\n",
    "println(ide)\n",
    "\n",
    "loadPlugins(\"com.intellij.java\")"
   ],
   "outputs": [
    {
     "name": "stdout",
     "output_type": "stream",
     "text": [
      "com.jetbrains.plugin.structure.ide.ProductInfoBasedIde@2d94f973\n"
     ]
    }
   ],
   "execution_count": 9
  },
  {
   "metadata": {
    "ExecuteTime": {
     "end_time": "2025-09-23T16:32:22.892052Z",
     "start_time": "2025-09-23T16:32:22.649446Z"
    }
   },
   "cell_type": "code",
   "source": [
    "import com.intellij.ide.DataManager\n",
    "import com.intellij.ide.highlighter.JavaFileType\n",
    "import com.intellij.openapi.actionSystem.CommonDataKeys\n",
    "import com.intellij.openapi.application.ApplicationManager\n",
    "import com.intellij.openapi.application.ReadAction\n",
    "import com.intellij.psi.PsiClass\n",
    "import com.intellij.psi.PsiElementFactory\n",
    "import com.intellij.psi.PsiFile\n",
    "import com.intellij.psi.PsiFileFactory\n",
    "import com.intellij.psi.PsiManager\n",
    "import com.intellij.psi.PsiMethod\n",
    "import com.intellij.psi.util.PsiTreeUtil\n",
    "import groovy.io.FileType\n",
    "\n",
    "val dataContext = DataManager.getInstance().dataContextFromFocusAsync.blockingGet(10)!!\n",
    "val project = dataContext.getData(CommonDataKeys.PROJECT)!!\n",
    "\n",
    "val psiFactory = PsiElementFactory.getInstance(project)\n",
    "val psiFileFactory = PsiFileFactory.getInstance(project)\n",
    "val psiManager = PsiManager.getInstance(project)\n",
    "\n",
    "val psiFile = ApplicationManager.getApplication().runReadAction<PsiFile> {\n",
    "    psiFileFactory.createFileFromText(\n",
    "        \"Steps.java\",\n",
    "        \"\"\"\n",
    "        @interface Given {\n",
    "            String value();\n",
    "        }\n",
    "        \n",
    "        @interface When {\n",
    "            String value();\n",
    "        }\n",
    "        \n",
    "        public class Steps() {\n",
    "          @Given(\"i eat\")\n",
    "          @When(\"x\")\n",
    "          public void i_eat() {\n",
    "          }\n",
    "        }\n",
    "        \"\"\",\n",
    "    )\n",
    "}\n",
    "\n",
    "val cls = ApplicationManager.getApplication().runReadAction<PsiClass> {\n",
    "    PsiTreeUtil.getChildrenOfType(psiFile, PsiClass::class.java)!![2]\n",
    "}\n",
    "\n",
    "val method = ApplicationManager.getApplication().runReadAction<PsiMethod> {\n",
    "    PsiTreeUtil.findChildOfType(cls, PsiMethod::class.java)\n",
    "}\n",
    "\n",
    "println(\"method: $method\")"
   ],
   "outputs": [
    {
     "name": "stdout",
     "output_type": "stream",
     "text": [
      "method: PsiMethod:i_eat\n"
     ]
    }
   ],
   "execution_count": 24
  },
  {
   "metadata": {
    "ExecuteTime": {
     "end_time": "2025-09-23T16:21:33.811943Z",
     "start_time": "2025-09-23T16:21:33.746930Z"
    }
   },
   "cell_type": "code",
   "source": [
    "import com.intellij.psi.util.CachedValuesManager\n",
    "\n",
    "val cachedValue = CachedValuesManager.getManager(project).createCachedValue {\n",
    "    \n",
    "}"
   ],
   "outputs": [
    {
     "name": "stdout",
     "output_type": "stream",
     "text": [
      "PsiMethod:list1, PsiMethod:list2\n"
     ]
    }
   ],
   "execution_count": 6
  },
  {
   "metadata": {
    "ExecuteTime": {
     "end_time": "2025-09-23T16:07:29.950065Z",
     "start_time": "2025-09-23T16:07:29.861226Z"
    }
   },
   "cell_type": "code",
   "source": [
    "import com.intellij.openapi.application.ApplicationManager\n",
    "import com.intellij.openapi.application.ReadAction\n",
    "import com.intellij.openapi.application.readAction\n",
    "import com.intellij.openapi.application.readActionBlocking\n",
    "import com.intellij.psi.GenericsUtil\n",
    "import com.intellij.psi.util.MethodSignature\n",
    "import com.intellij.psi.util.MethodSignatureUtil\n",
    "\n",
    "ApplicationManager.getApplication().runReadAction {\n",
    "    println(\"Computing LUB(${m1.returnType}, ${m2.returnType})\")\n",
    "    val result = GenericsUtil.getLeastUpperBound(m1.returnType, m2.returnType, psiManager)\n",
    "    println(\"Result: $result\")\n",
    "}"
   ],
   "outputs": [
    {
     "name": "stdout",
     "output_type": "stream",
     "text": [
      "Result: PsiIntersectionType: Ab"
     ]
    },
    {
     "ename": "java.lang.IllegalStateException",
     "evalue": "Switching to `Dispatchers.EDT` from `runBlockingCancellable` inside in a read-action leads to possible deadlock.",
     "output_type": "error",
     "traceback": [
      "java.lang.IllegalStateException: Switching to `Dispatchers.EDT` from `runBlockingCancellable` inside in a read-action leads to possible deadlock.",
      "\tat com.intellij.openapi.application.impl.EdtCoroutineDispatcher.dispatch(EdtCoroutineDispatcher.kt:36)",
      "\tat kotlinx.coroutines.internal.DispatchedContinuationKt.safeDispatch(DispatchedContinuation.kt:254)",
      "\tat kotlinx.coroutines.internal.DispatchedContinuationKt.resumeCancellableWith(DispatchedContinuation.kt:318)",
      "\tat kotlinx.coroutines.intrinsics.CancellableKt.startCoroutineCancellable(Cancellable.kt:26)",
      "\tat kotlinx.coroutines.BuildersKt__Builders_commonKt.withContext(Builders.common.kt:172)",
      "\tat kotlinx.coroutines.BuildersKt.withContext(Unknown Source)",
      "\tat com.intellij.openapi.application.CoroutinesKt.edtWriteAction(coroutines.kt:271)",
      "\tat com.intellij.jupyter.core.kernel.executor.JupyterTaskCellOutputUpdater$updateCellOutput$2.invokeSuspend(JupyterTaskCellOutputUpdater.kt:75)",
      "\tat kotlin.coroutines.jvm.internal.BaseContinuationImpl.resumeWith(ContinuationImpl.kt:34)",
      "\tat kotlinx.coroutines.DispatchedTask.run(DispatchedTask.kt:100)",
      "\tat kotlinx.coroutines.EventLoopImplBase.processNextEvent(EventLoop.common.kt:263)",
      "\tat kotlinx.coroutines.BlockingCoroutine.joinBlocking(Builders.kt:112)",
      "\tat kotlinx.coroutines.BuildersKt__BuildersKt.runBlocking$BuildersKt__BuildersKt(Builders.kt:85)",
      "\tat kotlinx.coroutines.BuildersKt__BuildersKt.runBlockingWithParallelismCompensation(Builders.kt:61)",
      "\tat kotlinx.coroutines.BuildersKt.runBlockingWithParallelismCompensation(Unknown Source)",
      "\tat kotlinx.coroutines.internal.intellij.IntellijCoroutines.runBlockingWithParallelismCompensation(intellij.kt:48)",
      "\tat com.intellij.util.IntelliJCoroutinesFacade.runBlockingWithParallelismCompensation(IntelliJCoroutinesFacade.kt:35)",
      "\tat com.intellij.openapi.progress.CoroutinesKt.runBlockingCancellable$lambda$0(coroutines.kt:143)",
      "\tat com.intellij.openapi.progress.ContextKt.prepareThreadContext$lambda$0(context.kt:82)",
      "\tat com.intellij.concurrency.ThreadContext.resetThreadContext(threadContext.kt:294)",
      "\tat com.intellij.openapi.progress.ContextKt.prepareThreadContext(context.kt:81)",
      "\tat com.intellij.openapi.progress.CoroutinesKt.runBlockingCancellable(coroutines.kt:134)",
      "\tat com.intellij.openapi.progress.CoroutinesKt.runBlockingMaybeCancellable(coroutines.kt:197)",
      "\tat com.intellij.jupyter.core.kernel.executor.JupyterTaskCellOutputUpdater.updateCellOutput(JupyterTaskCellOutputUpdater.kt:74)",
      "\tat com.intellij.jupyter.core.kernel.executor.JupyterTaskCellOutputUpdater.onUpdateOutput(JupyterTaskCellOutputUpdater.kt:28)",
      "\tat com.intellij.jupyter.core.jupyter.connections.execution.core.JupyterKernelClient.processMessageCallBack(JupyterKernelClient.kt:271)",
      "\tat com.intellij.jupyter.core.jupyter.connections.execution.core.JupyterKernelClient.processWebSocketRawMessage(JupyterKernelClient.kt:219)",
      "\tat com.intellij.jupyter.core.jupyter.connections.execution.core.JupyterKernelClient.processWebSocketRawMessage$default(JupyterKernelClient.kt:177)",
      "\tat com.intellij.jupyter.core.jupyter.connections.execution.core.JupyterKernelClient$getOrCreateWebSocketClientPromise$1$1$1.invoke(JupyterKernelClient.kt:155)",
      "\tat com.intellij.jupyter.core.jupyter.connections.execution.core.JupyterKernelClient$getOrCreateWebSocketClientPromise$1$1$1.invoke(JupyterKernelClient.kt:155)",
      "\tat com.intellij.kotlin.jupyter.core.jupyter.kernel.server.embedded.EmbeddedJupyterSocket.sendRawMessage(EmbeddedJupyterSocket.kt:49)",
      "\tat org.jetbrains.kotlinx.jupyter.messaging.MessageKt.sendMessage(Message.kt:103)",
      "\tat org.jetbrains.kotlinx.jupyter.messaging.JupyterCommunicationFacilityKt.sendOut(JupyterCommunicationFacility.kt:58)",
      "\tat org.jetbrains.kotlinx.jupyter.messaging.IdeCompatibleMessageRequestProcessor.getCapturingStream$lambda$0(IdeCompatibleMessageRequestProcessor.kt:328)",
      "\tat org.jetbrains.kotlinx.jupyter.streams.CapturingOutputStream.flushBuffers(CapturingOutputStream.kt:86)",
      "\tat org.jetbrains.kotlinx.jupyter.streams.CapturingOutputStream.flushIfNeeded(CapturingOutputStream.kt:57)",
      "\tat org.jetbrains.kotlinx.jupyter.streams.CapturingOutputStream.write(CapturingOutputStream.kt:71)",
      "\tat java.base/java.io.OutputStream.write(OutputStream.java:167)",
      "\tat java.base/java.io.PrintStream.implWrite(PrintStream.java:643)",
      "\tat java.base/java.io.PrintStream.write(PrintStream.java:623)",
      "\tat java.base/sun.nio.cs.StreamEncoder.writeBytes(StreamEncoder.java:309)",
      "\tat java.base/sun.nio.cs.StreamEncoder.implFlushBuffer(StreamEncoder.java:405)",
      "\tat java.base/sun.nio.cs.StreamEncoder.lockedFlushBuffer(StreamEncoder.java:123)",
      "\tat java.base/sun.nio.cs.StreamEncoder.flushBuffer(StreamEncoder.java:110)",
      "\tat java.base/java.io.OutputStreamWriter.flushBuffer(OutputStreamWriter.java:192)",
      "\tat java.base/java.io.PrintStream.implWriteln(PrintStream.java:849)",
      "\tat java.base/java.io.PrintStream.writeln(PrintStream.java:826)",
      "\tat java.base/java.io.PrintStream.println(PrintStream.java:1191)",
      "\tat org.jetbrains.kotlinx.jupyter.streams.DelegatingPrintStream.println(DelegatingPrintStream.kt:77)",
      "\tat Line_10_jupyter._init_$lambda$0(Line_10.jupyter.kts:12) at Cell In[6], line 12",
      "\tat com.intellij.openapi.application.impl.AppImplKt$runnableUnitFunction$1.invoke(appImpl.kt:124)",
      "\tat com.intellij.openapi.application.impl.AppImplKt$runnableUnitFunction$1.invoke(appImpl.kt:124)",
      "\tat com.intellij.platform.locking.impl.NestedLocksThreadingSupport.runReadAction(NestedLocksThreadingSupport.kt:836)",
      "\tat com.intellij.openapi.application.impl.ApplicationImpl.runReadAction(ApplicationImpl.java:1066)",
      "\tat Line_10_jupyter.<init>(Line_10.jupyter.kts:9) at Cell In[6], line 9",
      "\tat java.base/jdk.internal.reflect.DirectConstructorHandleAccessor.newInstance(DirectConstructorHandleAccessor.java:62)",
      "\tat java.base/java.lang.reflect.Constructor.newInstanceWithCaller(Constructor.java:502)",
      "\tat java.base/java.lang.reflect.Constructor.newInstance(Constructor.java:486)",
      "\tat kotlin.script.experimental.jvm.BasicJvmScriptEvaluator.evalWithConfigAndOtherScriptsResults(BasicJvmScriptEvaluator.kt:122)",
      "\tat kotlin.script.experimental.jvm.BasicJvmScriptEvaluator.invoke$suspendImpl(BasicJvmScriptEvaluator.kt:48)",
      "\tat kotlin.script.experimental.jvm.BasicJvmScriptEvaluator.invoke(BasicJvmScriptEvaluator.kt)",
      "\tat kotlin.script.experimental.jvm.BasicJvmReplEvaluator.eval(BasicJvmReplEvaluator.kt:49)",
      "\tat org.jetbrains.kotlinx.jupyter.repl.impl.InternalEvaluatorImpl$eval$resultWithDiagnostics$1.invokeSuspend(InternalEvaluatorImpl.kt:137)",
      "\tat kotlin.coroutines.jvm.internal.BaseContinuationImpl.resumeWith(ContinuationImpl.kt:34)",
      "\tat kotlinx.coroutines.DispatchedTask.run(DispatchedTask.kt:100)",
      "\tat kotlinx.coroutines.EventLoopImplBase.processNextEvent(EventLoop.common.kt:263)",
      "\tat kotlinx.coroutines.BlockingCoroutine.joinBlocking(Builders.kt:112)",
      "\tat kotlinx.coroutines.BuildersKt__BuildersKt.runBlocking$BuildersKt__BuildersKt(Builders.kt:85)",
      "\tat kotlinx.coroutines.BuildersKt__BuildersKt.runBlocking(Builders.kt:53)",
      "\tat kotlinx.coroutines.BuildersKt.runBlocking(Unknown Source)",
      "\tat kotlinx.coroutines.BuildersKt__BuildersKt.runBlocking$default(Builders.kt:48)",
      "\tat kotlinx.coroutines.BuildersKt.runBlocking$default(Unknown Source)",
      "\tat org.jetbrains.kotlinx.jupyter.repl.impl.InternalEvaluatorImpl.eval(InternalEvaluatorImpl.kt:137)",
      "\tat org.jetbrains.kotlinx.jupyter.repl.impl.CellExecutorImpl.execute_W38Nk0s$lambda$0$1(CellExecutorImpl.kt:95)",
      "\tat org.jetbrains.kotlinx.jupyter.repl.impl.ReplForJupyterImpl.withHost(ReplForJupyterImpl.kt:730)",
      "\tat org.jetbrains.kotlinx.jupyter.repl.impl.CellExecutorImpl.execute-W38Nk0s(CellExecutorImpl.kt:93)",
      "\tat org.jetbrains.kotlinx.jupyter.repl.execution.CellExecutor.execute-W38Nk0s$default(CellExecutor.kt:14)",
      "\tat org.jetbrains.kotlinx.jupyter.repl.impl.ReplForJupyterImpl.evaluateUserCode-wNURfNM(ReplForJupyterImpl.kt:591)",
      "\tat org.jetbrains.kotlinx.jupyter.repl.impl.ReplForJupyterImpl.evalExImpl(ReplForJupyterImpl.kt:472)",
      "\tat org.jetbrains.kotlinx.jupyter.repl.impl.ReplForJupyterImpl.evalEx$lambda$0(ReplForJupyterImpl.kt:466)",
      "\tat org.jetbrains.kotlinx.jupyter.repl.impl.ReplForJupyterImpl.withEvalContext(ReplForJupyterImpl.kt:448)",
      "\tat org.jetbrains.kotlinx.jupyter.repl.impl.ReplForJupyterImpl.evalEx(ReplForJupyterImpl.kt:465)",
      "\tat org.jetbrains.kotlinx.jupyter.messaging.IdeCompatibleMessageRequestProcessor.processExecuteRequest$lambda$0$0$0(IdeCompatibleMessageRequestProcessor.kt:161)",
      "\tat org.jetbrains.kotlinx.jupyter.streams.NonBlockingSubstitutionEngine.withDataSubstitution(SubstitutionEngine.kt:124)",
      "\tat org.jetbrains.kotlinx.jupyter.streams.StreamSubstitutionManager.withSubstitutedStreams(StreamSubstitutionManager.kt:118)",
      "\tat org.jetbrains.kotlinx.jupyter.messaging.IdeCompatibleMessageRequestProcessor.withForkedIn(IdeCompatibleMessageRequestProcessor.kt:351)",
      "\tat org.jetbrains.kotlinx.jupyter.messaging.IdeCompatibleMessageRequestProcessor.evalWithIO$lambda$0$0(IdeCompatibleMessageRequestProcessor.kt:364)",
      "\tat org.jetbrains.kotlinx.jupyter.streams.NonBlockingSubstitutionEngine.withDataSubstitution(SubstitutionEngine.kt:124)",
      "\tat org.jetbrains.kotlinx.jupyter.streams.StreamSubstitutionManager.withSubstitutedStreams(StreamSubstitutionManager.kt:118)",
      "\tat org.jetbrains.kotlinx.jupyter.messaging.IdeCompatibleMessageRequestProcessor.withForkedErr(IdeCompatibleMessageRequestProcessor.kt:341)",
      "\tat org.jetbrains.kotlinx.jupyter.messaging.IdeCompatibleMessageRequestProcessor.evalWithIO$lambda$0(IdeCompatibleMessageRequestProcessor.kt:363)",
      "\tat org.jetbrains.kotlinx.jupyter.streams.NonBlockingSubstitutionEngine.withDataSubstitution(SubstitutionEngine.kt:124)",
      "\tat org.jetbrains.kotlinx.jupyter.streams.StreamSubstitutionManager.withSubstitutedStreams(StreamSubstitutionManager.kt:118)",
      "\tat org.jetbrains.kotlinx.jupyter.messaging.IdeCompatibleMessageRequestProcessor.withForkedOut(IdeCompatibleMessageRequestProcessor.kt:334)",
      "\tat org.jetbrains.kotlinx.jupyter.messaging.IdeCompatibleMessageRequestProcessor.evalWithIO(IdeCompatibleMessageRequestProcessor.kt:362)",
      "\tat org.jetbrains.kotlinx.jupyter.messaging.IdeCompatibleMessageRequestProcessor.processExecuteRequest$lambda$0$0(IdeCompatibleMessageRequestProcessor.kt:160)",
      "\tat org.jetbrains.kotlinx.jupyter.execution.JupyterExecutorImpl$Task.execute(JupyterExecutorImpl.kt:41)",
      "\tat org.jetbrains.kotlinx.jupyter.execution.JupyterExecutorImpl.executorThread$lambda$0(JupyterExecutorImpl.kt:81)",
      "\tat kotlin.concurrent.ThreadsKt$thread$thread$1.run(Thread.kt:30)",
      "",
      "java.lang.IllegalStateException: Switching to `Dispatchers.EDT` from `runBlockingCancellable` inside in a read-action leads to possible deadlock.",
      "at Cell In[6], line 12"
     ]
    }
   ],
   "execution_count": 6
  }
 ],
 "metadata": {
  "kernelspec": {
   "display_name": "Kotlin",
   "language": "kotlin",
   "name": "kotlin"
  },
  "language_info": {
   "name": "kotlin",
   "version": "2.2.20-dev-4982",
   "mimetype": "text/x-kotlin",
   "file_extension": ".kt",
   "pygments_lexer": "kotlin",
   "codemirror_mode": "text/x-kotlin",
   "nbconvert_exporter": ""
  },
  "ktnbPluginMetadata": {
   "sessionRunMode": "IDE_PROCESS"
  }
 },
 "nbformat": 4,
 "nbformat_minor": 0
}
